{
  "nbformat": 4,
  "nbformat_minor": 0,
  "metadata": {
    "colab": {
      "provenance": [],
      "mount_file_id": "1ILIXbvnXwfd6npcRZ2kzGsf1nIyOO2a5",
      "authorship_tag": "ABX9TyMwzxAFonF5GFArxTxvhcd7",
      "include_colab_link": true
    },
    "kernelspec": {
      "name": "python3",
      "display_name": "Python 3"
    },
    "language_info": {
      "name": "python"
    }
  },
  "cells": [
    {
      "cell_type": "markdown",
      "metadata": {
        "id": "view-in-github",
        "colab_type": "text"
      },
      "source": [
        "<a href=\"https://colab.research.google.com/github/arunn06/bot_discord/blob/main/Code_AI_AdaptiveGame_ArunN.ipynb\" target=\"_parent\"><img src=\"https://colab.research.google.com/assets/colab-badge.svg\" alt=\"Open In Colab\"/></a>"
      ]
    },
    {
      "cell_type": "code",
      "execution_count": 1,
      "metadata": {
        "id": "8Fe3G5Sab1q-",
        "colab": {
          "base_uri": "https://localhost:8080/"
        },
        "outputId": "aaa0779f-22f8-4526-f01a-3f25687b8da2"
      },
      "outputs": [
        {
          "output_type": "stream",
          "name": "stdout",
          "text": [
            "DecisionTree Accuracy: 0.25\n"
          ]
        }
      ],
      "source": [
        "# Import necessary libraries and modules\n",
        "import pandas as pd\n",
        "from sklearn.tree import DecisionTreeClassifier\n",
        "from sklearn.model_selection import train_test_split\n",
        "from sklearn.metrics import accuracy_score\n",
        "\n",
        "# Define the dataset\n",
        "# Each row represents a data point, with features X1, X2, and X3, and a target variable y\n",
        "data = pd.DataFrame({\n",
        "'player_health': [1, 2, 3, 4, 5, 6, 7, 8, 9, 10],\n",
        "'enemy_health': [0, 1, 0, 1, 0, 1, 0, 1, 0, 1],\n",
        "'player_action': [0, 1, 0, 1, 0, 1, 0, 1, 0, 1],\n",
        "'player_enemy': [0, 1, 0, 1, 0, 1, 0, 1, 0, 1],\n",
        "'distance': [1, 1, 0, 0, 1, 1, 0, 0, 1, 1],\n",
        "'y': [0, 0, 1, 1, 0, 0, 1, 1, 0, 0]\n",
        "})\n",
        "# Split the dataset into features and target variable\n",
        "X = data.drop(['y'], axis=1)\n",
        "y = data['y']\n",
        "# Split the dataset into training and testing sets\n",
        "X_train, X_test, y_train, y_test = train_test_split(X, y, test_size=0.76, random_state=40)\n",
        "\n",
        "# Create and train the decision tree classifier\n",
        "clf = DecisionTreeClassifier()\n",
        "clf.fit(X_train, y_train)\n",
        "# Use the trained classifier to predict the target variable for the testing set\n",
        "y_pred = clf.predict(X_test)\n",
        "# Calculate the accuracy of the classifier on the testing set\n",
        "accuracy = accuracy_score(y_test, y_pred)\n",
        "# Print the accuracy of the classifier\n",
        "print(\"DecisionTree Accuracy:\", accuracy)"
      ]
    },
    {
      "cell_type": "code",
      "source": [
        "from sklearn.model_selection import train_test_split\n",
        "from sklearn.linear_model import LogisticRegression\n",
        "from sklearn.tree import DecisionTreeClassifier\n",
        "from sklearn.metrics import accuracy_score\n",
        "\n",
        "# Define the dataset\n",
        "# Each row represents a data point, with features X1, X2, and X3, and a target variable y\n",
        "data = pd.DataFrame({\n",
        "'player_health': [1, 2, 3, 4, 5, 6, 7, 8, 9, 10],\n",
        "'enemy_health': [0, 1, 0, 1, 0, 1, 0, 1, 0, 1],\n",
        "'player_action': [0, 1, 0, 1, 0, 1, 0, 1, 0, 1],\n",
        "'player_enemy': [0, 1, 0, 1, 0, 1, 0, 1, 0, 1],\n",
        "'distance': [1, 1, 0, 0, 1, 1, 0, 0, 1, 1],\n",
        "'y': [0, 0, 1, 1, 0, 0, 1, 1, 0, 0]\n",
        "})\n",
        "# Split the dataset into features and target variable\n",
        "X = data.drop(['y'], axis=1)\n",
        "y = data['y']\n",
        "# Split the dataset into training and testing sets\n",
        "X_train, X_test, y_train, y_test = train_test_split(X, y, test_size=0.7, random_state=40)\n",
        "X_train, X_test, y_train, y_test = train_test_split(X, y, test_size=0.7, random_state=40)\n",
        "\n",
        "# Train and test the first model\n",
        "model1 = LogisticRegression()\n",
        "model1.fit(X_train, y_train)\n",
        "y_pred1 = model1.predict(X_test)\n",
        "accuracy1 = accuracy_score(y_test, y_pred1)\n",
        "\n",
        "# Train and test the second model\n",
        "model2 = DecisionTreeClassifier()\n",
        "model2.fit(X_train, y_train)\n",
        "y_pred2 = model2.predict(X_test)\n",
        "accuracy2 = accuracy_score(y_test, y_pred2)\n",
        "\n",
        "# Compare the accuracies of the two models\n",
        "print(\"Accuracy of model 1:\", accuracy1)\n",
        "print(\"Accuracy of model 2:\", accuracy2)\n",
        "if accuracy1 > accuracy2:\n",
        "    print(\"Model 1 has higher accuracy.\")\n",
        "else:\n",
        "    print(\"Model 2 has higher accuracy.\")"
      ],
      "metadata": {
        "colab": {
          "base_uri": "https://localhost:8080/"
        },
        "id": "vCauGb5DYLIr",
        "outputId": "eb69055e-3146-43ed-fbc1-2e4628891d53"
      },
      "execution_count": 4,
      "outputs": [
        {
          "output_type": "stream",
          "name": "stdout",
          "text": [
            "Accuracy of model 1: 0.42857142857142855\n",
            "Accuracy of model 2: 1.0\n",
            "Model 2 has higher accuracy.\n"
          ]
        }
      ]
    },
    {
      "cell_type": "code",
      "source": [
        "import pandas as pd\n",
        "import matplotlib.pyplot as plt\n",
        "\n",
        "# Read data from CSV file using pandas\n",
        "df = pd.read_csv('game_data.csv')\n",
        "\n",
        "# Create histogram using matplotlib\n",
        "plt.hist(df.iloc[:, 1], bins=10)\n",
        "plt.xlabel(df.columns[1])\n",
        "plt.ylabel('Frequency')\n",
        "plt.title('Histogram of ' + df.columns[1])\n",
        "plt.show()"
      ],
      "metadata": {
        "colab": {
          "base_uri": "https://localhost:8080/",
          "height": 472
        },
        "id": "sp21SeaXYjPV",
        "outputId": "530a81c2-15fd-47c8-c161-0d0ee3d2902f"
      },
      "execution_count": 7,
      "outputs": [
        {
          "output_type": "display_data",
          "data": {
            "text/plain": [
              "<Figure size 640x480 with 1 Axes>"
            ],
            "image/png": "[encoded data removed]"
          },
          "metadata": {}
        }
      ]
    },
    {
      "cell_type": "code",
      "source": [
        "import pandas as pd\n",
        "import seaborn as sns\n",
        "\n",
        "# Read data from CSV file using pandas\n",
        "df = pd.read_csv('game_data.csv')\n",
        "\n",
        "# Visualize data using seaborn\n",
        "sns.set_style('whitegrid')\n",
        "sns.relplot(data=df, x=df.columns[0], y=df.columns[1])"
      ],
      "metadata": {
        "colab": {
          "base_uri": "https://localhost:8080/",
          "height": 524
        },
        "id": "mHEPU8RbZWmh",
        "outputId": "c5d6ba36-939b-40b3-fd18-68836f62b6bd"
      },
      "execution_count": 8,
      "outputs": [
        {
          "output_type": "execute_result",
          "data": {
            "text/plain": [
              "<seaborn.axisgrid.FacetGrid at 0x7f2e0d023f10>"
            ]
          },
          "metadata": {},
          "execution_count": 8
        },
        {
          "output_type": "display_data",
          "data": {
            "text/plain": [
              "<Figure size 500x500 with 1 Axes>"
            ],
            "image/png": "[encoded data removed]"
          },
          "metadata": {}
        }
      ]
    },
    {
      "cell_type": "markdown",
      "source": [
        "# New Section"
      ],
      "metadata": {
        "id": "P05GVuvx4t5o"
      }
    }
  ]
}